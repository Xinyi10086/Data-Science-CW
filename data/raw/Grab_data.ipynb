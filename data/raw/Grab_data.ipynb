{
 "cells": [
  {
   "cell_type": "code",
   "execution_count": null,
   "id": "540f9903",
   "metadata": {},
   "outputs": [],
   "source": [
    "from nba_api.stats.endpoints import shotchartdetail\n",
    "from nba_api.stats.static import players\n",
    "import pandas as pd\n",
    "import time"
   ]
  },
  {
   "cell_type": "code",
   "execution_count": null,
   "id": "46f6b306",
   "metadata": {},
   "outputs": [
    {
     "name": "stdout",
     "output_type": "stream",
     "text": [
      "Grab 2009-10 season data\n",
      "Grab 2010-11 season data\n",
      "Grab 2011-12 season data\n",
      "Grab 2012-13 season data\n",
      "Grab 2013-14 season data\n",
      "Grab 2014-15 season data\n",
      "Grab 2015-16 season data\n",
      "Grab 2016-17 season data\n",
      "Grab 2017-18 season data\n",
      "Grab 2018-19 season data\n",
      "Grab 2019-20 season data\n",
      "Grab 2020-21 season data\n",
      "Grab 2021-22 season data\n",
      "Grab 2022-23 season data\n",
      "Grab 2023-24 season data\n",
      "Grab 2024-25 season data\n"
     ]
    }
   ],
   "source": [
    "player_dict = players.find_players_by_full_name(\"Stephen Curry\")[0] # Get the player's ID\n",
    "player_id = player_dict['id']  # 201939\n",
    "\n",
    "seasons = [f\"{y}-{str(y+1)[-2:]}\" for y in range(2009, 2025)] # Season List\n",
    "\n",
    "# Save all the data\n",
    "all_data = []\n",
    "\n",
    "# Grab all seasons\n",
    "for season in seasons:\n",
    "    print(f\"Grab {season} season data\")\n",
    "    try:\n",
    "        shots = shotchartdetail.ShotChartDetail(\n",
    "            team_id=0,  \n",
    "            player_id=player_id,\n",
    "            season_nullable=season,\n",
    "            season_type_all_star=\"Regular Season\",\n",
    "            context_measure_simple='FGA'  # Catch all shots (hit + miss)\n",
    "        )\n",
    "        df = shots.get_data_frames()[0]\n",
    "        df[\"SEASON\"] = season\n",
    "        all_data.append(df)\n",
    "        time.sleep(1.5) \n",
    "    except Exception as e:\n",
    "        print(f\"Failed to grab {season}: {e}\")\n",
    "\n",
    "full_df = pd.concat(all_data, ignore_index=True) # Merge all seasons\n",
    "full_df.to_csv(\"curry_all_shots_complete.csv\", index=False) # Save as CSV\n"
   ]
  }
 ],
 "metadata": {
  "kernelspec": {
   "display_name": "Python 3",
   "language": "python",
   "name": "python3"
  },
  "language_info": {
   "codemirror_mode": {
    "name": "ipython",
    "version": 3
   },
   "file_extension": ".py",
   "mimetype": "text/x-python",
   "name": "python",
   "nbconvert_exporter": "python",
   "pygments_lexer": "ipython3",
   "version": "3.12.8"
  }
 },
 "nbformat": 4,
 "nbformat_minor": 5
}
